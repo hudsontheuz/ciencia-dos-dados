{
 "cells": [
  {
   "cell_type": "code",
   "execution_count": null,
   "id": "7064d41b",
   "metadata": {},
   "outputs": [],
   "source": [
    "import pandas as pd\n",
    "import numpy as np\n",
    "import matplotlib.pyplot as plt"
   ]
  },
  {
   "cell_type": "code",
   "execution_count": null,
   "id": "5e0ce859",
   "metadata": {},
   "outputs": [],
   "source": [
    "df = pd.read_excel(\"default_of_credit_card_clients__courseware_version_1_21_19.xls\", header=1)\n",
    "df.head()"
   ]
  },
  {
   "cell_type": "code",
   "execution_count": null,
   "id": "319b44e8",
   "metadata": {},
   "outputs": [],
   "source": [
    "bill_features = ['BILL_AMT1', 'BILL_AMT2', 'BILL_AMT3', 'BILL_AMT4', 'BILL_AMT5', 'BILL_AMT6']\n",
    "pay_features = ['PAY_AMT1', 'PAY_AMT2', 'PAY_AMT3', 'PAY_AMT4', 'PAY_AMT5', 'PAY_AMT6']\n",
    "\n",
    "print(\"Características de valor da fatura:\")\n",
    "print(bill_features)\n",
    "print(\"\\nCaracterísticas de valor de pagamento:\")\n",
    "print(pay_features)"
   ]
  },
  {
   "cell_type": "code",
   "execution_count": null,
   "id": "4152e81c",
   "metadata": {},
   "outputs": [],
   "source": [
    "print(\"Resumo estatístico das características de valor da fatura:\")\n",
    "df[bill_features].describe()"
   ]
  },
  {
   "cell_type": "code",
   "execution_count": null,
   "id": "bb2d5eb2",
   "metadata": {},
   "outputs": [],
   "source": [
    "plt.figure(figsize=(15, 10))\n",
    "for i, feature in enumerate(bill_features):\n",
    "    plt.subplot(2, 3, i+1)\n",
    "    df[feature].plot(kind='hist', bins=20, title=feature)\n",
    "plt.tight_layout()\n",
    "plt.show()"
   ]
  },
  {
   "cell_type": "code",
   "execution_count": null,
   "id": "b6de0f6f",
   "metadata": {},
   "outputs": [],
   "source": [
    "print(\"Resumo estatístico das características de valor de pagamento:\")\n",
    "df[pay_features].describe()"
   ]
  },
  {
   "cell_type": "code",
   "execution_count": null,
   "id": "9c273a11",
   "metadata": {},
   "outputs": [],
   "source": [
    "plt.figure(figsize=(15, 10))\n",
    "for i, feature in enumerate(pay_features):\n",
    "    plt.subplot(2, 3, i+1)\n",
    "    df[feature].plot(kind='hist', bins=20, title=feature)\n",
    "    plt.xticks(rotation=45)\n",
    "plt.tight_layout()\n",
    "plt.show()"
   ]
  },
  {
   "cell_type": "code",
   "execution_count": null,
   "id": "2ca5aac0",
   "metadata": {},
   "outputs": [],
   "source": [
    "print(\"Pagamentos iguais a 0:\")\n",
    "for feature in pay_features:\n",
    "    zero_count = (df[feature] == 0).sum()\n",
    "    print(f\"{feature}: {zero_count}\")"
   ]
  },
  {
   "cell_type": "code",
   "execution_count": null,
   "id": "9d4ac210",
   "metadata": {},
   "outputs": [],
   "source": [
    "df_nonzero_payments = df[pay_features].replace(0, np.nan)\n",
    "log_df = df_nonzero_payments.apply(np.log10)\n",
    "\n",
    "plt.figure(figsize=(15, 10))\n",
    "for i, feature in enumerate(pay_features):\n",
    "    plt.subplot(2, 3, i+1)\n",
    "    log_df[feature].dropna().plot(kind='hist', bins=20, title=f'Log10 de {feature}')\n",
    "plt.tight_layout()\n",
    "plt.show()"
   ]
  }
 ],
 "metadata": {},
 "nbformat": 4,
 "nbformat_minor": 5
}
