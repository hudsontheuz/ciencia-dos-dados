{
 "cells": [
  {
   "cell_type": "markdown",
   "id": "4a63177b-e259-45f3-9ead-74da933bf787",
   "metadata": {
    "panel-layout": {
     "height": 68.2812,
     "visible": true,
     "width": 100
    }
   },
   "source": [
    "#Jupyter Notebook - Matheus Hudson\n",
    "Descrição: Estou explorando a atividade de introdução ao Python para ciência de dados."
   ]
  },
  {
   "cell_type": "code",
   "execution_count": null,
   "id": "37c47aa3",
   "metadata": {},
   "outputs": [],
   "source": []
  },
  {
   "cell_type": "code",
   "execution_count": null,
   "id": "d1358635",
   "metadata": {},
   "outputs": [],
   "source": []
  },
  {
   "cell_type": "code",
   "execution_count": 9,
   "id": "3c989ad3-e3d6-4d90-b160-85f03dbe78c8",
   "metadata": {},
   "outputs": [],
   "source": [
    "import pandas as pd"
   ]
  },
  {
   "cell_type": "code",
   "execution_count": 10,
   "id": "b4fce065-eb8c-471f-93be-6980d4915fb1",
   "metadata": {
    "scrolled": true
   },
   "outputs": [],
   "source": [
    "file_path = \"C:\\\\Users\\\\55469\\\\Downloads\\\\atividadepythoncartaodecredito.xls\"\n",
    "df = pd.read_excel(file_path, skiprows=1)"
   ]
  },
  {
   "cell_type": "code",
   "execution_count": 11,
   "id": "531c4a04-1f74-4662-b5de-86d5a3136d74",
   "metadata": {
    "panel-layout": {
     "height": 0,
     "visible": true,
     "width": 100
    }
   },
   "outputs": [
    {
     "name": "stdout",
     "output_type": "stream",
     "text": [
      "Total de colunas: 25\n",
      "Total de linhas: 29999\n"
     ]
    }
   ],
   "source": [
    "print(f\"Total de colunas: {df.shape[1]}\")\n",
    "print(f\"Total de linhas: {df.shape[0]}\")"
   ]
  },
  {
   "cell_type": "code",
   "execution_count": 12,
   "id": "b22d3435-0ab6-402c-a0c8-53e967750323",
   "metadata": {
    "panel-layout": {
     "height": 0,
     "visible": true,
     "width": 100
    }
   },
   "outputs": [
    {
     "name": "stdout",
     "output_type": "stream",
     "text": [
      "798fc410-45c1    object\n",
      "20000             int64\n",
      "2                 int64\n",
      "2.1               int64\n",
      "1                 int64\n",
      "24                int64\n",
      "2.2              object\n",
      "2.3               int64\n",
      "-1                int64\n",
      "-1.1              int64\n",
      "-2                int64\n",
      "-2.1              int64\n",
      "3913              int64\n",
      "3102              int64\n",
      "689               int64\n",
      "0                 int64\n",
      "0.1               int64\n",
      "0.2               int64\n",
      "0.3               int64\n",
      "689.1             int64\n",
      "0.4               int64\n",
      "0.5               int64\n",
      "0.6               int64\n",
      "0.7               int64\n",
      "1.1               int64\n",
      "dtype: object\n"
     ]
    }
   ],
   "source": [
    "print(df.dtypes)"
   ]
  },
  {
   "cell_type": "code",
   "execution_count": 13,
   "id": "292a1f3e-79a1-436a-aa09-d10ab874cf1c",
   "metadata": {
    "panel-layout": {
     "height": 0,
     "visible": true,
     "width": 100
    }
   },
   "outputs": [
    {
     "name": "stdout",
     "output_type": "stream",
     "text": [
      "Colunas categóricas: ['798fc410-45c1', '2.2']\n",
      "Colunas numéricas: [20000, 2, '2.1', 1, 24, '2.3', -1, '-1.1', -2, '-2.1', 3913, 3102, 689, 0, '0.1', '0.2', '0.3', '689.1', '0.4', '0.5', '0.6', '0.7', '1.1']\n"
     ]
    }
   ],
   "source": [
    "colunas_categoricas = df.select_dtypes(include=['object']).columns.tolist()\n",
    "colunas_numericas = df.select_dtypes(include=['number']).columns.tolist()\n",
    "\n",
    "print(f\"Colunas categóricas: {colunas_categoricas}\")\n",
    "print(f\"Colunas numéricas: {colunas_numericas}\")"
   ]
  },
  {
   "cell_type": "code",
   "execution_count": 14,
   "id": "a16e72c9-9454-4682-97f8-4650e4aeb523",
   "metadata": {
    "panel-layout": {
     "height": 0,
     "visible": true,
     "width": 100
    }
   },
   "outputs": [
    {
     "name": "stdout",
     "output_type": "stream",
     "text": [
      "                20000             2           2.1             1            24  \\\n",
      "count    29999.000000  29999.000000  29999.000000  29999.000000  29999.000000   \n",
      "mean    165765.848195      1.586486      1.833328      1.535918     35.109170   \n",
      "std     130158.039052      0.513351      0.807712      0.542698      9.851547   \n",
      "min          0.000000      0.000000      0.000000      0.000000      0.000000   \n",
      "25%      50000.000000      1.000000      1.000000      1.000000     28.000000   \n",
      "50%     140000.000000      2.000000      2.000000      2.000000     34.000000   \n",
      "75%     240000.000000      2.000000      2.000000      2.000000     41.000000   \n",
      "max    1000000.000000      2.000000      6.000000      3.000000     79.000000   \n",
      "\n",
      "                2.3            -1          -1.1            -2          -2.1  \\\n",
      "count  29999.000000  29999.000000  29999.000000  29999.000000  29999.000000   \n",
      "mean      -0.132938     -0.164305     -0.219274     -0.263842     -0.287976   \n",
      "std        1.191171      1.191106      1.162358      1.127493      1.144957   \n",
      "min       -2.000000     -2.000000     -2.000000     -2.000000     -2.000000   \n",
      "25%       -1.000000     -1.000000     -1.000000     -1.000000     -1.000000   \n",
      "50%        0.000000      0.000000      0.000000      0.000000      0.000000   \n",
      "75%        0.000000      0.000000      0.000000      0.000000      0.000000   \n",
      "max        8.000000      8.000000      8.000000      8.000000      8.000000   \n",
      "\n",
      "       ...              0            0.1            0.2            0.3  \\\n",
      "count  ...   29999.000000   29999.000000   29999.000000   29999.000000   \n",
      "mean   ...   42792.788593   39885.727691   38481.633654    5613.508617   \n",
      "std    ...   64090.908203   60607.217509   59407.411645   16539.338225   \n",
      "min    ... -170000.000000  -81334.000000 -339603.000000       0.000000   \n",
      "25%    ...    2035.000000    1535.500000    1080.500000     836.000000   \n",
      "50%    ...   18760.000000   17840.000000   16644.000000    2085.000000   \n",
      "75%    ...   53573.500000   49806.000000   48864.000000    5000.000000   \n",
      "max    ...  891586.000000  927171.000000  961664.000000  873552.000000   \n",
      "\n",
      "              689.1            0.4            0.5            0.6  \\\n",
      "count  2.999900e+04   29999.000000   29999.000000   29999.000000   \n",
      "mean   5.855583e+03    5174.560452    4776.248942    4754.907697   \n",
      "std    2.299293e+04   17565.805675   15533.127465   15239.299980   \n",
      "min    0.000000e+00       0.000000       0.000000       0.000000   \n",
      "25%    7.225000e+02     371.500000     223.000000     171.500000   \n",
      "50%    2.000000e+03    1776.000000    1500.000000    1500.000000   \n",
      "75%    5.000000e+03    4500.000000    4000.000000    4000.000000   \n",
      "max    1.684259e+06  896040.000000  621000.000000  426529.000000   \n",
      "\n",
      "                 0.7           1.1  \n",
      "count   29999.000000  29999.000000  \n",
      "mean     5164.395413      0.218707  \n",
      "std     17712.934835      0.413376  \n",
      "min         0.000000      0.000000  \n",
      "25%         9.000000      0.000000  \n",
      "50%      1500.000000      0.000000  \n",
      "75%      4000.000000      0.000000  \n",
      "max    528666.000000      1.000000  \n",
      "\n",
      "[8 rows x 23 columns]\n"
     ]
    }
   ],
   "source": [
    "print(df.describe())"
   ]
  },
  {
   "cell_type": "code",
   "execution_count": 15,
   "id": "3030a0e7-b54f-4dc5-b891-cd516ac9582f",
   "metadata": {},
   "outputs": [
    {
     "name": "stdout",
     "output_type": "stream",
     "text": [
      "\n",
      "Valores únicos na coluna 798fc410-45c1:\n",
      "798fc410-45c1\n",
      "c3ddce11-35e2    2\n",
      "c361e43d-f1f4    2\n",
      "89f8f447-fca8    2\n",
      "2a793ecf-05c6    2\n",
      "90330d02-82d9    2\n",
      "                ..\n",
      "eecd60d0-e496    1\n",
      "2edeb3a6-d38d    1\n",
      "27e11893-92e9    1\n",
      "2b1c282b-441e    1\n",
      "15d69f9f-5ad3    1\n",
      "Name: count, Length: 29686, dtype: int64\n",
      "\n",
      "Valores únicos na coluna 2.2:\n",
      "2.2\n",
      "0                13402\n",
      "-1                5047\n",
      "1                 3261\n",
      "Not available     3021\n",
      "-2                2476\n",
      "2                 2377\n",
      "3                  292\n",
      "4                   63\n",
      "5                   23\n",
      "8                   17\n",
      "6                   11\n",
      "7                    9\n",
      "Name: count, dtype: int64\n"
     ]
    }
   ],
   "source": [
    "for col in colunas_categoricas:\n",
    "    print(f\"\\nValores únicos na coluna {col}:\")\n",
    "    print(df[col].value_counts())"
   ]
  },
  {
   "cell_type": "code",
   "execution_count": 16,
   "id": "101e1d53-6004-441e-8e23-fccf0450ea82",
   "metadata": {
    "panel-layout": {
     "height": 0,
     "visible": true,
     "width": 100
    }
   },
   "outputs": [
    {
     "name": "stdout",
     "output_type": "stream",
     "text": [
      "Quantidade de valores ausentes por coluna:\n",
      "Series([], dtype: int64)\n"
     ]
    }
   ],
   "source": [
    "dados_faltantes = df.isnull().sum()\n",
    "print(\"Quantidade de valores ausentes por coluna:\")\n",
    "print(dados_faltantes[dados_faltantes > 0])"
   ]
  }
 ],
 "metadata": {
  "kernelspec": {
   "display_name": "Python 3 (ipykernel)",
   "language": "python",
   "name": "python3"
  },
  "language_info": {
   "codemirror_mode": {
    "name": "ipython",
    "version": 3
   },
   "file_extension": ".py",
   "mimetype": "text/x-python",
   "name": "python",
   "nbconvert_exporter": "python",
   "pygments_lexer": "ipython3",
   "version": "3.12.7"
  },
  "panel-cell-order": [
   "4a63177b-e259-45f3-9ead-74da933bf787",
   "531c4a04-1f74-4662-b5de-86d5a3136d74",
   "b22d3435-0ab6-402c-a0c8-53e967750323",
   "292a1f3e-79a1-436a-aa09-d10ab874cf1c",
   "a16e72c9-9454-4682-97f8-4650e4aeb523",
   "101e1d53-6004-441e-8e23-fccf0450ea82"
  ]
 },
 "nbformat": 4,
 "nbformat_minor": 5
}
